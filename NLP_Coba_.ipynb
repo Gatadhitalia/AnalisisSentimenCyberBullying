{
  "cells": [
    {
      "cell_type": "markdown",
      "metadata": {
        "id": "XxxlEN2wI09j"
      },
      "source": [
        " re untuk pemrosesan teks,\n",
        "numpy dan pandas untuk manipulasi data, sklearn untuk pembelajaran mesin, matplotlib dan seaborn untuk visualisasi, serta pustaka lainnya yang terkait dengan evaluasi model."
      ]
    },
    {
      "cell_type": "code",
      "execution_count": 30,
      "metadata": {
        "id": "0kSoufQm1gls"
      },
      "outputs": [],
      "source": [
        "import numpy as np\n",
        "import pandas as pd"
      ]
    },
    {
      "cell_type": "markdown",
      "metadata": {
        "id": "H2q4dzyS1B98"
      },
      "source": [
        "# Import Dataset"
      ]
    },
    {
      "cell_type": "code",
      "execution_count": 31,
      "metadata": {
        "colab": {
          "base_uri": "https://localhost:8080/",
          "height": 423
        },
        "id": "VYVhLnhl78ds",
        "outputId": "5d368c5b-9bc4-42d6-b72a-d20e78d7c610"
      },
      "outputs": [
        {
          "data": {
            "text/html": [
              "<div>\n",
              "<style scoped>\n",
              "    .dataframe tbody tr th:only-of-type {\n",
              "        vertical-align: middle;\n",
              "    }\n",
              "\n",
              "    .dataframe tbody tr th {\n",
              "        vertical-align: top;\n",
              "    }\n",
              "\n",
              "    .dataframe thead th {\n",
              "        text-align: right;\n",
              "    }\n",
              "</style>\n",
              "<table border=\"1\" class=\"dataframe\">\n",
              "  <thead>\n",
              "    <tr style=\"text-align: right;\">\n",
              "      <th></th>\n",
              "      <th>Komentar</th>\n",
              "      <th>Kategori</th>\n",
              "    </tr>\n",
              "  </thead>\n",
              "  <tbody>\n",
              "    <tr>\n",
              "      <th>0</th>\n",
              "      <td>\"Kaka tidur yaa, udah pagi, gaboleh capek2\"</td>\n",
              "      <td>Non-bullying</td>\n",
              "    </tr>\n",
              "    <tr>\n",
              "      <th>1</th>\n",
              "      <td>\"makan nasi padang aja begini badannya\"</td>\n",
              "      <td>Non-bullying</td>\n",
              "    </tr>\n",
              "    <tr>\n",
              "      <th>2</th>\n",
              "      <td>\"yang aku suka dari dia adalah selalu cukur je...</td>\n",
              "      <td>Bullying</td>\n",
              "    </tr>\n",
              "    <tr>\n",
              "      <th>3</th>\n",
              "      <td>\"Hai kak Isyana aku ngefans banget sama kak Is...</td>\n",
              "      <td>Non-bullying</td>\n",
              "    </tr>\n",
              "    <tr>\n",
              "      <th>4</th>\n",
              "      <td>\"Manusia apa bidadari sih herann deh cantik te...</td>\n",
              "      <td>Non-bullying</td>\n",
              "    </tr>\n",
              "    <tr>\n",
              "      <th>...</th>\n",
              "      <td>...</td>\n",
              "      <td>...</td>\n",
              "    </tr>\n",
              "    <tr>\n",
              "      <th>645</th>\n",
              "      <td>\"aku memutuskan untuk menjadi fans isyana. gil...</td>\n",
              "      <td>Non-bullying</td>\n",
              "    </tr>\n",
              "    <tr>\n",
              "      <th>646</th>\n",
              "      <td>\"AMZING ISYANAA!! Jujur aku amazed banget deng...</td>\n",
              "      <td>Non-bullying</td>\n",
              "    </tr>\n",
              "    <tr>\n",
              "      <th>647</th>\n",
              "      <td>\"paling ngiri liat orang keren maen alat musik...</td>\n",
              "      <td>Non-bullying</td>\n",
              "    </tr>\n",
              "    <tr>\n",
              "      <th>648</th>\n",
              "      <td>\"Sampe ga bisa berkata2 lagi buat isyana, sang...</td>\n",
              "      <td>Non-bullying</td>\n",
              "    </tr>\n",
              "    <tr>\n",
              "      <th>649</th>\n",
              "      <td>\"Inimah bukan main alat musik lagi. Olahraga j...</td>\n",
              "      <td>Non-bullying</td>\n",
              "    </tr>\n",
              "  </tbody>\n",
              "</table>\n",
              "<p>650 rows × 2 columns</p>\n",
              "</div>"
            ],
            "text/plain": [
              "                                              Komentar      Kategori\n",
              "0          \"Kaka tidur yaa, udah pagi, gaboleh capek2\"  Non-bullying\n",
              "1              \"makan nasi padang aja begini badannya\"  Non-bullying\n",
              "2    \"yang aku suka dari dia adalah selalu cukur je...      Bullying\n",
              "3    \"Hai kak Isyana aku ngefans banget sama kak Is...  Non-bullying\n",
              "4    \"Manusia apa bidadari sih herann deh cantik te...  Non-bullying\n",
              "..                                                 ...           ...\n",
              "645  \"aku memutuskan untuk menjadi fans isyana. gil...  Non-bullying\n",
              "646  \"AMZING ISYANAA!! Jujur aku amazed banget deng...  Non-bullying\n",
              "647  \"paling ngiri liat orang keren maen alat musik...  Non-bullying\n",
              "648  \"Sampe ga bisa berkata2 lagi buat isyana, sang...  Non-bullying\n",
              "649  \"Inimah bukan main alat musik lagi. Olahraga j...  Non-bullying\n",
              "\n",
              "[650 rows x 2 columns]"
            ]
          },
          "execution_count": 31,
          "metadata": {},
          "output_type": "execute_result"
        }
      ],
      "source": [
        "data_sentimen= pd.read_csv('DATASET_CYBERBULLYING.csv')\n",
        "data_sentimen[['Komentar', 'Kategori']]"
      ]
    },
    {
      "cell_type": "markdown",
      "metadata": {
        "id": "Edb0kYQhd7rh"
      },
      "source": [
        "# Pembersihan Text\n",
        "\n",
        "##CaseFolding\n",
        "Merubah teks dalam bentuk seragam \"tanpa kapital\" dan Membersihkan teks dari simbol simbol yang tidak diperlukan."
      ]
    },
    {
      "cell_type": "code",
      "execution_count": 32,
      "metadata": {
        "colab": {
          "base_uri": "https://localhost:8080/",
          "height": 423
        },
        "id": "RtgPx_IVedtn",
        "outputId": "2022625a-5d18-4bb7-e6ae-eee7143da890"
      },
      "outputs": [
        {
          "data": {
            "text/html": [
              "<div>\n",
              "<style scoped>\n",
              "    .dataframe tbody tr th:only-of-type {\n",
              "        vertical-align: middle;\n",
              "    }\n",
              "\n",
              "    .dataframe tbody tr th {\n",
              "        vertical-align: top;\n",
              "    }\n",
              "\n",
              "    .dataframe thead th {\n",
              "        text-align: right;\n",
              "    }\n",
              "</style>\n",
              "<table border=\"1\" class=\"dataframe\">\n",
              "  <thead>\n",
              "    <tr style=\"text-align: right;\">\n",
              "      <th></th>\n",
              "      <th>Komentar</th>\n",
              "      <th>Kategori</th>\n",
              "    </tr>\n",
              "  </thead>\n",
              "  <tbody>\n",
              "    <tr>\n",
              "      <th>0</th>\n",
              "      <td>kaka tidur yaa udah pagi gaboleh capek2</td>\n",
              "      <td>Non-bullying</td>\n",
              "    </tr>\n",
              "    <tr>\n",
              "      <th>1</th>\n",
              "      <td>makan nasi padang aja begini badannya</td>\n",
              "      <td>Non-bullying</td>\n",
              "    </tr>\n",
              "    <tr>\n",
              "      <th>2</th>\n",
              "      <td>yang aku suka dari dia adalah selalu cukur jem...</td>\n",
              "      <td>Bullying</td>\n",
              "    </tr>\n",
              "    <tr>\n",
              "      <th>3</th>\n",
              "      <td>hai kak isyana aku ngefans banget sama kak isy...</td>\n",
              "      <td>Non-bullying</td>\n",
              "    </tr>\n",
              "    <tr>\n",
              "      <th>4</th>\n",
              "      <td>manusia apa bidadari sih herann deh cantik terus</td>\n",
              "      <td>Non-bullying</td>\n",
              "    </tr>\n",
              "    <tr>\n",
              "      <th>...</th>\n",
              "      <td>...</td>\n",
              "      <td>...</td>\n",
              "    </tr>\n",
              "    <tr>\n",
              "      <th>645</th>\n",
              "      <td>aku memutuskan untuk menjadi fans isyana gila ...</td>\n",
              "      <td>Non-bullying</td>\n",
              "    </tr>\n",
              "    <tr>\n",
              "      <th>646</th>\n",
              "      <td>amzing isyanaa jujur aku amazed banget dengan ...</td>\n",
              "      <td>Non-bullying</td>\n",
              "    </tr>\n",
              "    <tr>\n",
              "      <th>647</th>\n",
              "      <td>paling ngiri liat orang keren maen alat musik ...</td>\n",
              "      <td>Non-bullying</td>\n",
              "    </tr>\n",
              "    <tr>\n",
              "      <th>648</th>\n",
              "      <td>sampe ga bisa berkata2 lagi buat isyana sangat...</td>\n",
              "      <td>Non-bullying</td>\n",
              "    </tr>\n",
              "    <tr>\n",
              "      <th>649</th>\n",
              "      <td>inimah bukan main alat musik lagi olahraga jar...</td>\n",
              "      <td>Non-bullying</td>\n",
              "    </tr>\n",
              "  </tbody>\n",
              "</table>\n",
              "<p>650 rows × 2 columns</p>\n",
              "</div>"
            ],
            "text/plain": [
              "                                              Komentar      Kategori\n",
              "0              kaka tidur yaa udah pagi gaboleh capek2  Non-bullying\n",
              "1                makan nasi padang aja begini badannya  Non-bullying\n",
              "2    yang aku suka dari dia adalah selalu cukur jem...      Bullying\n",
              "3    hai kak isyana aku ngefans banget sama kak isy...  Non-bullying\n",
              "4    manusia apa bidadari sih herann deh cantik terus   Non-bullying\n",
              "..                                                 ...           ...\n",
              "645  aku memutuskan untuk menjadi fans isyana gila ...  Non-bullying\n",
              "646  amzing isyanaa jujur aku amazed banget dengan ...  Non-bullying\n",
              "647  paling ngiri liat orang keren maen alat musik ...  Non-bullying\n",
              "648  sampe ga bisa berkata2 lagi buat isyana sangat...  Non-bullying\n",
              "649  inimah bukan main alat musik lagi olahraga jar...  Non-bullying\n",
              "\n",
              "[650 rows x 2 columns]"
            ]
          },
          "execution_count": 32,
          "metadata": {},
          "output_type": "execute_result"
        }
      ],
      "source": [
        "import re\n",
        "def casefolding(text):\n",
        "  text = text.lower()\n",
        "  text = text.strip(\" \")\n",
        "  text = re.sub(r'(<[A-Za-z0-9+>])|(#[A-Za-z0-9]+)|(@[A-Za-z0-9]+)|([^0-9A-Za-z \\t])|(\\w+:\\/\\/\\s+)',\"\",text)\n",
        "  return text\n",
        "data_sentimen['Komentar'] = data_sentimen['Komentar'].apply(casefolding)\n",
        "data_sentimen[['Komentar', 'Kategori']]"
      ]
    },
    {
      "cell_type": "markdown",
      "metadata": {
        "id": "4HttwvfX6Vf8"
      },
      "source": [
        "##Tokenization\n",
        "\n",
        "Memecah sebuah teks atau kalimat menjadi bagian-bagian yang lebih kecil"
      ]
    },
    {
      "cell_type": "code",
      "execution_count": 33,
      "metadata": {
        "colab": {
          "base_uri": "https://localhost:8080/"
        },
        "id": "mK5GsQR98Rmn",
        "outputId": "c48a8eab-2df4-4011-abc7-ddadc84aeb1c"
      },
      "outputs": [
        {
          "data": {
            "text/plain": [
              "0        [kaka, tidur, yaa, udah, pagi, gaboleh, capek2]\n",
              "1           [makan, nasi, padang, aja, begini, badannya]\n",
              "2      [yang, aku, suka, dari, dia, adalah, selalu, c...\n",
              "3      [hai, kak, isyana, aku, ngefans, banget, sama,...\n",
              "4      [manusia, apa, bidadari, sih, herann, deh, can...\n",
              "                             ...                        \n",
              "645    [aku, memutuskan, untuk, menjadi, fans, isyana...\n",
              "646    [amzing, isyanaa, jujur, aku, amazed, banget, ...\n",
              "647    [paling, ngiri, liat, orang, keren, maen, alat...\n",
              "648    [sampe, ga, bisa, berkata2, lagi, buat, isyana...\n",
              "649    [inimah, bukan, main, alat, musik, lagi, olahr...\n",
              "Name: Komentar, Length: 650, dtype: object"
            ]
          },
          "execution_count": 33,
          "metadata": {},
          "output_type": "execute_result"
        }
      ],
      "source": [
        "def token(komen):\n",
        "\n",
        "    nstr = komen.split(\" \")\n",
        "    dat = []\n",
        "    a = -1\n",
        "\n",
        "    for karakter in nstr:\n",
        "        a = a + 1\n",
        "\n",
        "    if karakter == \"\":\n",
        "        dat.append(a)\n",
        "\n",
        "    p = 0\n",
        "    b = 0\n",
        "\n",
        "    for q in dat:\n",
        "        b = q - p\n",
        "        del nstr[b]\n",
        "        p = p + 1\n",
        "\n",
        "    return nstr\n",
        "\n",
        "# Tokenisasi kolom \"Komentar\" dan simpan hasilnya dalam kolom baru \"Komentar\"\n",
        "data_sentimen[\"Komentar\"] = data_sentimen[\"Komentar\"].apply(token)\n",
        "\n",
        "# Menampilkan hasil tokenisasi\n",
        "data_sentimen[\"Komentar\"]"
      ]
    },
    {
      "cell_type": "markdown",
      "metadata": {
        "id": "x49udFEPC6l_"
      },
      "source": [
        "##Filtering\n",
        "\n",
        "Menghilangkan kata yang kurang bermakna, seperti kata penghubung atau yang lainya"
      ]
    },
    {
      "cell_type": "code",
      "execution_count": 34,
      "metadata": {
        "colab": {
          "base_uri": "https://localhost:8080/",
          "height": 423
        },
        "id": "-4Dcezg3C6Jl",
        "outputId": "e00e2e6f-7a1b-41c0-cdf2-e45a2af401be"
      },
      "outputs": [
        {
          "data": {
            "text/html": [
              "<div>\n",
              "<style scoped>\n",
              "    .dataframe tbody tr th:only-of-type {\n",
              "        vertical-align: middle;\n",
              "    }\n",
              "\n",
              "    .dataframe tbody tr th {\n",
              "        vertical-align: top;\n",
              "    }\n",
              "\n",
              "    .dataframe thead th {\n",
              "        text-align: right;\n",
              "    }\n",
              "</style>\n",
              "<table border=\"1\" class=\"dataframe\">\n",
              "  <thead>\n",
              "    <tr style=\"text-align: right;\">\n",
              "      <th></th>\n",
              "      <th>Komentar</th>\n",
              "      <th>Kategori</th>\n",
              "    </tr>\n",
              "  </thead>\n",
              "  <tbody>\n",
              "    <tr>\n",
              "      <th>0</th>\n",
              "      <td>[kaka, tidur, pagi, gaboleh, capek2]</td>\n",
              "      <td>Non-bullying</td>\n",
              "    </tr>\n",
              "    <tr>\n",
              "      <th>1</th>\n",
              "      <td>[makan, nasi, padang, begini, badannya]</td>\n",
              "      <td>Non-bullying</td>\n",
              "    </tr>\n",
              "    <tr>\n",
              "      <th>2</th>\n",
              "      <td>[aku, suka, dia, selalu, cukur, jembut, sebelu...</td>\n",
              "      <td>Bullying</td>\n",
              "    </tr>\n",
              "    <tr>\n",
              "      <th>3</th>\n",
              "      <td>[isyana, aku, ngefans, banget, sama, isyanaaku...</td>\n",
              "      <td>Non-bullying</td>\n",
              "    </tr>\n",
              "    <tr>\n",
              "      <th>4</th>\n",
              "      <td>[manusia, apa, bidadari, cantik, terus]</td>\n",
              "      <td>Non-bullying</td>\n",
              "    </tr>\n",
              "    <tr>\n",
              "      <th>...</th>\n",
              "      <td>...</td>\n",
              "      <td>...</td>\n",
              "    </tr>\n",
              "    <tr>\n",
              "      <th>645</th>\n",
              "      <td>[aku, memutuskan, untuk, menjadi, fans, isyana...</td>\n",
              "      <td>Non-bullying</td>\n",
              "    </tr>\n",
              "    <tr>\n",
              "      <th>646</th>\n",
              "      <td>[amzing, isyanaa, jujur, aku, amazed, banget, ...</td>\n",
              "      <td>Non-bullying</td>\n",
              "    </tr>\n",
              "    <tr>\n",
              "      <th>647</th>\n",
              "      <td>[paling, ngiri, liat, orang, keren, maen, alat...</td>\n",
              "      <td>Non-bullying</td>\n",
              "    </tr>\n",
              "    <tr>\n",
              "      <th>648</th>\n",
              "      <td>[sampe, ga, bisa, berkata2, lagi, buat, isyana...</td>\n",
              "      <td>Non-bullying</td>\n",
              "    </tr>\n",
              "    <tr>\n",
              "      <th>649</th>\n",
              "      <td>[inimah, bukan, main, alat, musik, lagi, olahr...</td>\n",
              "      <td>Non-bullying</td>\n",
              "    </tr>\n",
              "  </tbody>\n",
              "</table>\n",
              "<p>650 rows × 2 columns</p>\n",
              "</div>"
            ],
            "text/plain": [
              "                                              Komentar      Kategori\n",
              "0                 [kaka, tidur, pagi, gaboleh, capek2]  Non-bullying\n",
              "1              [makan, nasi, padang, begini, badannya]  Non-bullying\n",
              "2    [aku, suka, dia, selalu, cukur, jembut, sebelu...      Bullying\n",
              "3    [isyana, aku, ngefans, banget, sama, isyanaaku...  Non-bullying\n",
              "4              [manusia, apa, bidadari, cantik, terus]  Non-bullying\n",
              "..                                                 ...           ...\n",
              "645  [aku, memutuskan, untuk, menjadi, fans, isyana...  Non-bullying\n",
              "646  [amzing, isyanaa, jujur, aku, amazed, banget, ...  Non-bullying\n",
              "647  [paling, ngiri, liat, orang, keren, maen, alat...  Non-bullying\n",
              "648  [sampe, ga, bisa, berkata2, lagi, buat, isyana...  Non-bullying\n",
              "649  [inimah, bukan, main, alat, musik, lagi, olahr...  Non-bullying\n",
              "\n",
              "[650 rows x 2 columns]"
            ]
          },
          "execution_count": 34,
          "metadata": {},
          "output_type": "execute_result"
        }
      ],
      "source": [
        "stopword = [\"yaa\", \"aja\", \"yang\", \"dari\", \"adalah\", \"sih\", \"deh\", \"ya\",\n",
        "            \"ciaaaa\", \"aja\", \"kok\", \"gitu\", \"ko\", \"wkwk\", \"gt\",\n",
        "            \"sekarang\", \"udah\", \"sepertinya\", \"ini\", \"woy\", \"lah\",\n",
        "            \"apasih\", \"plus\", \"kyk\", \"udh\", \"masih\", \"aj\", \"yg\", \"sekaligus\",\n",
        "            \"sih\", \"kalau\", \"emang\", \"wkwkwk\", \"itu\", \"lu\", \"dah\", \"kenapa\", \n",
        "            \"hey\", \"dah\", \"hahaha\", \"itu\", \"hai\", \"kak\",\n",
        "            \"deh\", \"herann\", \"skrg\", \"nya\", \"makin\", \"kayak\", \"udah\", \"kk\",\n",
        "            \"sepertinya\",\"di\",\"haha\",\"msh\",\"ah\",\"niiii\",\"in\",\"ih\",\"yehh\",\"wahh\"]\n",
        "def stopword_removal(komen):\n",
        "    x = []\n",
        "    data = []\n",
        "    def myFunc(x):\n",
        "        if x in stopword:\n",
        "            return False\n",
        "        else:\n",
        "            return True\n",
        "\n",
        "    fit = filter(myFunc, komen)\n",
        "    for x in fit:\n",
        "        data.append(x)\n",
        "\n",
        "    return data\n",
        "\n",
        "data_sentimen[\"Komentar\"] = data_sentimen[\"Komentar\"].apply(stopword_removal)\n",
        "data_sentimen[['Komentar', 'Kategori']]"
      ]
    },
    {
      "cell_type": "markdown",
      "metadata": {
        "id": "FOds6PKyeQx4"
      },
      "source": [
        "###Pengkategorian Data\n",
        "\n"
      ]
    },
    {
      "cell_type": "markdown",
      "metadata": {
        "id": "8EJmzXIvQ2CZ"
      },
      "source": [
        "##Stemming\n",
        "\n",
        "Mengubah kata menjadi kata dasar atau menghilangkan imbuhan yang terdapat pada suatu kata"
      ]
    },
    {
      "cell_type": "code",
      "execution_count": 35,
      "metadata": {
        "colab": {
          "base_uri": "https://localhost:8080/",
          "height": 423
        },
        "id": "0NE8tIXbREVY",
        "outputId": "ca8ebddf-3f76-4f0e-83e2-e20168f35120"
      },
      "outputs": [
        {
          "data": {
            "text/html": [
              "<div>\n",
              "<style scoped>\n",
              "    .dataframe tbody tr th:only-of-type {\n",
              "        vertical-align: middle;\n",
              "    }\n",
              "\n",
              "    .dataframe tbody tr th {\n",
              "        vertical-align: top;\n",
              "    }\n",
              "\n",
              "    .dataframe thead th {\n",
              "        text-align: right;\n",
              "    }\n",
              "</style>\n",
              "<table border=\"1\" class=\"dataframe\">\n",
              "  <thead>\n",
              "    <tr style=\"text-align: right;\">\n",
              "      <th></th>\n",
              "      <th>Komentar</th>\n",
              "      <th>Kategori</th>\n",
              "    </tr>\n",
              "  </thead>\n",
              "  <tbody>\n",
              "    <tr>\n",
              "      <th>0</th>\n",
              "      <td>kaka tidur pagi gaboleh capek</td>\n",
              "      <td>Non-bullying</td>\n",
              "    </tr>\n",
              "    <tr>\n",
              "      <th>1</th>\n",
              "      <td>makan nasi padang begini badan</td>\n",
              "      <td>Non-bullying</td>\n",
              "    </tr>\n",
              "    <tr>\n",
              "      <th>2</th>\n",
              "      <td>aku suka dia selalu cukur jembut sebelum manggung</td>\n",
              "      <td>Bullying</td>\n",
              "    </tr>\n",
              "    <tr>\n",
              "      <th>3</th>\n",
              "      <td>isyana aku fans banget sama isyanaaku paling s...</td>\n",
              "      <td>Non-bullying</td>\n",
              "    </tr>\n",
              "    <tr>\n",
              "      <th>4</th>\n",
              "      <td>manusia apa bidadari cantik terus</td>\n",
              "      <td>Non-bullying</td>\n",
              "    </tr>\n",
              "    <tr>\n",
              "      <th>...</th>\n",
              "      <td>...</td>\n",
              "      <td>...</td>\n",
              "    </tr>\n",
              "    <tr>\n",
              "      <th>645</th>\n",
              "      <td>aku putus untuk njadi fans isyana gila keren b...</td>\n",
              "      <td>Non-bullying</td>\n",
              "    </tr>\n",
              "    <tr>\n",
              "      <th>646</th>\n",
              "      <td>amzing isyanaa jujur aku amazed banget deng sk...</td>\n",
              "      <td>Non-bullying</td>\n",
              "    </tr>\n",
              "    <tr>\n",
              "      <th>647</th>\n",
              "      <td>paling iri liat orang keren maen alat musik d ...</td>\n",
              "      <td>Non-bullying</td>\n",
              "    </tr>\n",
              "    <tr>\n",
              "      <th>648</th>\n",
              "      <td>sampe ga bisa kata lagi buat isyana sangat sem...</td>\n",
              "      <td>Non-bullying</td>\n",
              "    </tr>\n",
              "    <tr>\n",
              "      <th>649</th>\n",
              "      <td>inimah bu ma alat musik lagi olahraga jari d k...</td>\n",
              "      <td>Non-bullying</td>\n",
              "    </tr>\n",
              "  </tbody>\n",
              "</table>\n",
              "<p>650 rows × 2 columns</p>\n",
              "</div>"
            ],
            "text/plain": [
              "                                              Komentar      Kategori\n",
              "0                        kaka tidur pagi gaboleh capek  Non-bullying\n",
              "1                       makan nasi padang begini badan  Non-bullying\n",
              "2    aku suka dia selalu cukur jembut sebelum manggung      Bullying\n",
              "3    isyana aku fans banget sama isyanaaku paling s...  Non-bullying\n",
              "4                    manusia apa bidadari cantik terus  Non-bullying\n",
              "..                                                 ...           ...\n",
              "645  aku putus untuk njadi fans isyana gila keren b...  Non-bullying\n",
              "646  amzing isyanaa jujur aku amazed banget deng sk...  Non-bullying\n",
              "647  paling iri liat orang keren maen alat musik d ...  Non-bullying\n",
              "648  sampe ga bisa kata lagi buat isyana sangat sem...  Non-bullying\n",
              "649  inimah bu ma alat musik lagi olahraga jari d k...  Non-bullying\n",
              "\n",
              "[650 rows x 2 columns]"
            ]
          },
          "execution_count": 35,
          "metadata": {},
          "output_type": "execute_result"
        }
      ],
      "source": [
        "# Fungsi untuk melakukan stemming pada kata dalam bahasa Indonesia\n",
        "def stemming_kata(kata):\n",
        "\n",
        "    # Kamus kata dasar (contoh: kata -> kat)\n",
        "    kamus = {\n",
        "        \"membacakan\": \"baca\", \"buku-buku\": \"buku\",\"memutuskan\": \"putus\",\"menemukan\" : \"temu\", \"permainan\": \"main\",\"menggambar\": \"gambar\",\n",
        "        \"memperlancar\": \"lancar\",\"kebahagiaan\": \"bahagia\",\"memutihkan\": \"putih\",\"berlapis lapis\": \"lapis\",\"melebihi\":\"lebih\",\"mainin\":\"main\",\n",
        "        \"dilancarkan\":\"lancar\",\"serasa\":\"rasa\", \"mempunyai\":\"punya\",\"kekurangan\" : \"kurang\",\"keliatan\" : \"liat\",\"ngebully2\" : \"bully\",\n",
        "        \"menyakitkan\" : \"sakit\",\"kehaluanmu\" : \"halu\",\"kesalahan\" : \"salah\",\"menjadikanmu\" : \"jadi\",\"kesalahannya\" : \"salah\",\n",
        "        \"keberanian\" : \"berani\",\"ngegemesin\" : \"gemes\",\"bertanya\" : \"tanya\",\"berenang\" : \"renang\", \"mengeluarkan\" : \"keluar\"}\n",
        "\n",
        "    dasar = {\"tanya\", \"berani\", \"mereka\", \"makan\", \"dia\", \"diam\",\"kamu\",\"kalian\",\"penuh\"} #kata dasar yang tidak berimbuhan \n",
        "    akhiran = [\"2\", \"nya\", \"2nya\", \"lah\", \"in\", \"kan\", \"pun\", \"an\", \"mu\"] #kata imbuhan akhir\n",
        "    awalan = [\"me\", \"mem\", \"men\", \"meny\", \"meng\", \"menge\", \"pe\", \"ber\", \"nge\", \"di\", \"ng\"] #kata imbuhan awal\n",
        "     \n",
        "    # Cek apakah kata ada dalam kamus kata dasar\n",
        "    if kata in kamus:\n",
        "        return kamus[kata]\n",
        "    \n",
        "    if kata in dasar:\n",
        "        return kata\n",
        "    \n",
        "    # Implementasi aturan-aturan stemming tambahan di sini\n",
        "\n",
        "    for aw in awalan:\n",
        "        if kata.startswith(aw):\n",
        "            kata = kata[len(aw):]\n",
        "            break  \n",
        "        \n",
        "    for ak in akhiran:\n",
        "        if kata.endswith(ak):\n",
        "            kata = kata[:-len(ak)]\n",
        "            break\n",
        "\n",
        "    # Jika tidak ada aturan yang cocok, kembalikan kata asli\n",
        "    return kata\n",
        "\n",
        "# Fungsi untuk melakukan stemming pada kalimat\n",
        "def stemming_kalimat(kalimat):\n",
        "    kata_kunci_stemmed = [stemming_kata(kata) for kata in kalimat]\n",
        "    kata_kunci_stemmed = [stemming_kata(kata) for kata in kalimat]\n",
        "    kalimat_stemmed = \" \".join(kata_kunci_stemmed)\n",
        "    return kalimat_stemmed\n",
        "\n",
        "# Menerapkan proses stemming pada kolom \"Komentar\" dalam dataset data_sentimen\n",
        "data_sentimen[\"Komentar\"] = data_sentimen[\"Komentar\"].apply(stemming_kalimat)\n",
        "data_sentimen.to_csv(\"data_clean.csv\", index=False)\n",
        "data_clean = pd.read_csv(\"data_clean.csv\")\n",
        "\n",
        "# Tampilkan beberapa baris pertama dari dataset yang sudah di-stemming\n",
        "data_clean[[\"Komentar\", \"Kategori\"]]\n"
      ]
    },
    {
      "cell_type": "code",
      "execution_count": 36,
      "metadata": {
        "colab": {
          "base_uri": "https://localhost:8080/"
        },
        "id": "w0uTRAB6rZfh",
        "outputId": "032d9162-20ba-44d9-e593-60a5ed64fceb"
      },
      "outputs": [
        {
          "data": {
            "text/plain": [
              "No.                                       int64\n",
              "Nama Instagram                           object\n",
              "Komentar                         string[python]\n",
              "Kategori                               category\n",
              "Tanggal Posting                          object\n",
              "Nama Akun IG  Artis/Selebgram            object\n",
              "dtype: object"
            ]
          },
          "execution_count": 36,
          "metadata": {},
          "output_type": "execute_result"
        }
      ],
      "source": [
        "data_clean = data_clean.astype({'Komentar' : 'string'})\n",
        "data_clean = data_clean.astype({'Kategori' : 'category'})\n",
        "data_clean.dtypes"
      ]
    },
    {
      "cell_type": "markdown",
      "metadata": {
        "id": "X_1pIon82IrM"
      },
      "source": [
        "#Frekuensi\n",
        "\n",
        "Mengukur seberapa sering sebuah kata muncul dalam sebuah dataset atau dokumen\n"
      ]
    },
    {
      "cell_type": "code",
      "execution_count": 37,
      "metadata": {
        "colab": {
          "base_uri": "https://localhost:8080/"
        },
        "id": "1aHFyEHFpwWF",
        "outputId": "6c902a05-014a-4a70-ff6f-e3fb75d50c86"
      },
      "outputs": [
        {
          "name": "stdout",
          "output_type": "stream",
          "text": [
            "(650, 1839)\n"
          ]
        }
      ],
      "source": [
        "from sklearn.feature_extraction.text import TfidfVectorizer\n",
        "\n",
        "tfIdf = TfidfVectorizer()\n",
        "data_tfIdf = tfIdf.fit_transform(data_clean[\"Komentar\"].astype(\"U\"))\n",
        "print(data_tfIdf.shape)"
      ]
    },
    {
      "cell_type": "markdown",
      "metadata": {
        "id": "Wdbcw44CZYT2"
      },
      "source": [
        "# Implementasi Naive Bayes"
      ]
    },
    {
      "cell_type": "code",
      "execution_count": 38,
      "metadata": {
        "colab": {
          "base_uri": "https://localhost:8080/"
        },
        "id": "FOsgpU6Poes2",
        "outputId": "c4af669d-13ea-4701-b5ec-a439ade08d01"
      },
      "outputs": [
        {
          "name": "stdout",
          "output_type": "stream",
          "text": [
            "X_train :  (520, 1839)\n",
            "X_test :  (130, 1839)\n",
            "y_train :  (520,)\n",
            "y_test :  (130,)\n"
          ]
        }
      ],
      "source": [
        "from sklearn.model_selection import train_test_split\n",
        "\n",
        "x = data_tfIdf\n",
        "y = data_clean[\"Kategori\"]\n",
        "x_train, x_test, y_train, y_test = train_test_split(x, y, test_size=0.2, random_state=42)\n",
        "\n",
        "print(\"X_train : \", x_train.shape)\n",
        "print(\"X_test : \", x_test.shape)\n",
        "print(\"y_train : \", y_train.shape)\n",
        "print(\"y_test : \", y_test.shape)"
      ]
    },
    {
      "cell_type": "code",
      "execution_count": 39,
      "metadata": {
        "colab": {
          "base_uri": "https://localhost:8080/"
        },
        "id": "0OO7pgVVrA9v",
        "outputId": "3fa101fc-a2f2-4f29-850a-9a28109c2fcf"
      },
      "outputs": [
        {
          "name": "stdout",
          "output_type": "stream",
          "text": [
            "MultinomialNB Accuracy :  0.8692307692307693\n",
            "MultinomialNB Preccision :  0.8813559322033898\n",
            "MultinomialNB Recall :  0.8387096774193549\n",
            "MultinomialNB F1 Score :  0.859504132231405\n",
            "Confusion Matrix : \n",
            " [[52 10]\n",
            " [ 7 61]]\n",
            "======================================================\n",
            "              precision    recall  f1-score   support\n",
            "\n",
            "    Bullying       0.88      0.84      0.86        62\n",
            "Non-bullying       0.86      0.90      0.88        68\n",
            "\n",
            "    accuracy                           0.87       130\n",
            "   macro avg       0.87      0.87      0.87       130\n",
            "weighted avg       0.87      0.87      0.87       130\n",
            "\n"
          ]
        }
      ],
      "source": [
        "from sklearn.naive_bayes import MultinomialNB\n",
        "from sklearn.metrics import accuracy_score, precision_score, recall_score, f1_score\n",
        "from sklearn.metrics import classification_report\n",
        "from sklearn.metrics import confusion_matrix\n",
        "\n",
        "clf = MultinomialNB().fit(x_train, y_train)\n",
        "predicted = clf.predict(x_test)\n",
        "print(\"MultinomialNB Accuracy : \", accuracy_score(y_test,predicted))\n",
        "print(\"MultinomialNB Preccision : \", precision_score(y_test, predicted, average=\"binary\", pos_label=\"Bullying\"))\n",
        "print(\"MultinomialNB Recall : \", recall_score(y_test, predicted, average=\"binary\", pos_label=\"Bullying\"))\n",
        "print(\"MultinomialNB F1 Score : \", f1_score(y_test, predicted, average=\"binary\", pos_label=\"Bullying\"))\n",
        "print(f\"Confusion Matrix : \\n {confusion_matrix(y_test, predicted)}\")\n",
        "print(\"======================================================\")\n",
        "print(classification_report(y_test, predicted, zero_division=0))"
      ]
    },
    {
      "cell_type": "markdown",
      "metadata": {
        "id": "HRtT8rgqfOAn"
      },
      "source": [
        "Implementasi Naive Bayes perteks"
      ]
    },
    {
      "cell_type": "code",
      "execution_count": 40,
      "metadata": {
        "colab": {
          "base_uri": "https://localhost:8080/"
        },
        "id": "cg8YHHSRg2JL",
        "outputId": "c77b0cfd-d899-4ec3-df6d-c23fd17ce7f9"
      },
      "outputs": [
        {
          "name": "stdout",
          "output_type": "stream",
          "text": [
            "Komentar :  kamu cantik\n",
            "Komentar bersih :  kamu cantik\n",
            "Sentimen :  Non-bullying\n",
            "Probabilitas Prediksi Bullying: 18.72%\n",
            "Probabilitas Prediksi Non-Bullying: 81.28%\n"
          ]
        }
      ],
      "source": [
        "dt_pred = \"kamu cantik\"\n",
        "\n",
        "dt_pred_clean = casefolding(dt_pred)\n",
        "dt_pred_clean = token(dt_pred_clean)\n",
        "dt_pred_clean = stopword_removal(dt_pred_clean)\n",
        "dt_pred_clean = stemming_kalimat(dt_pred_clean)\n",
        "\n",
        "list_pred = [dt_pred_clean]\n",
        "dt_pred_tfid = tfIdf.transform(list_pred)\n",
        "my_pred = clf.predict(dt_pred_tfid)\n",
        "proba = clf.predict_proba(dt_pred_tfid)\n",
        "\n",
        "print(\"Komentar : \", dt_pred)\n",
        "print(\"Komentar bersih : \", dt_pred_clean)\n",
        "print(\"Sentimen : \", my_pred[0])\n",
        "print(f\"Probabilitas Prediksi Bullying: {proba[0][0]*100:.2f}%\")\n",
        "print(f\"Probabilitas Prediksi Non-Bullying: {proba[0][1]*100:.2f}%\")"
      ]
    },
    {
      "cell_type": "markdown",
      "metadata": {
        "id": "bg8wo45npOOG"
      },
      "source": [
        "## Membuat Model"
      ]
    },
    {
      "cell_type": "code",
      "execution_count": 41,
      "metadata": {
        "id": "fl_SRctsuV3H"
      },
      "outputs": [],
      "source": [
        "from sklearn.naive_bayes import MultinomialNB\n",
        "import pickle\n",
        "\n",
        "model = MultinomialNB()\n",
        "model.fit(x_train, y_train)\n",
        "\n",
        "pickle.dump(tfIdf, open(\"tfIdf.pkl\", mode=\"wb\"))\n",
        "pickle.dump(clf, open(\"clf.pkl\", mode=\"wb\"))\n",
        "pickle.dump(model, open(\"model.pkl\", mode=\"wb\"))"
      ]
    },
    {
      "cell_type": "code",
      "execution_count": 42,
      "metadata": {
        "colab": {
          "base_uri": "https://localhost:8080/"
        },
        "id": "fLHrS9yFuhRR",
        "outputId": "a2b3a540-a41f-4d23-891f-80946b62c313"
      },
      "outputs": [
        {
          "name": "stdout",
          "output_type": "stream",
          "text": [
            "Non-bullying\n"
          ]
        }
      ],
      "source": [
        "with open('tfIdf.pkl', mode='rb') as tf:\n",
        "    tfid_load = pickle.load(tf)\n",
        "with open('model.pkl', mode='rb') as model:\n",
        "    model_load = pickle.load(model)\n",
        "with open('clf.pkl', mode='rb') as cl:\n",
        "    clf_load = pickle.load(cl)\n",
        "\n",
        "dt_pred = [\"ngeri banget parentingnya\"]\n",
        "dt_pred_tfid = tfid_load.transform(dt_pred)\n",
        "pred = clf_load.predict(dt_pred_tfid)\n",
        "\n",
        "print(pred[0])"
      ]
    }
  ],
  "metadata": {
    "colab": {
      "provenance": []
    },
    "kernelspec": {
      "display_name": "Python 3",
      "name": "python3"
    },
    "language_info": {
      "codemirror_mode": {
        "name": "ipython",
        "version": 3
      },
      "file_extension": ".py",
      "mimetype": "text/x-python",
      "name": "python",
      "nbconvert_exporter": "python",
      "pygments_lexer": "ipython3",
      "version": "3.11.4"
    }
  },
  "nbformat": 4,
  "nbformat_minor": 0
}
